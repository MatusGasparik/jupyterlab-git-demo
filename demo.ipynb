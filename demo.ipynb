{
 "cells": [
  {
   "cell_type": "markdown",
   "id": "73e5b69d",
   "metadata": {},
   "source": [
    "# jupyterlab-git\n",
    "\n",
    "- [x] context-aware diffs\n",
    "- [x] diff images / plots\n",
    "- [x] commit, push / pull using the jupyterlab UI\n",
    "- [x] browse commit history, undo changes\n",
    "- [x] create branches"
   ]
  },
  {
   "cell_type": "code",
   "execution_count": 5,
   "id": "7bd86310",
   "metadata": {},
   "outputs": [],
   "source": [
    "def foobar(foo, bar='Hola'):\n",
    "    return f'¡{bar}, {foo}!' "
   ]
  },
  {
   "cell_type": "code",
   "execution_count": 6,
   "id": "9a0d49a0",
   "metadata": {},
   "outputs": [
    {
     "data": {
      "text/plain": [
       "'¡Hola, Mundo!'"
      ]
     },
     "execution_count": 6,
     "metadata": {},
     "output_type": "execute_result"
    }
   ],
   "source": [
    "foobar('Mundo')"
   ]
  },
  {
   "cell_type": "code",
   "execution_count": 1,
   "id": "f8ef47bd",
   "metadata": {},
   "outputs": [],
   "source": [
    "import matplotlib.pyplot as plt\n",
    "import numpy as np\n",
    "\n",
    "def f(x):\n",
    "    return np.tan(5*x)"
   ]
  },
  {
   "cell_type": "code",
   "execution_count": 2,
   "id": "daa47ac1",
   "metadata": {},
   "outputs": [
    {
     "data": {
      "image/png": "[encoded data removed]",
      "text/plain": [
       "<Figure size 432x288 with 1 Axes>"
      ]
     },
     "metadata": {
      "needs_background": "light"
     },
     "output_type": "display_data"
    }
   ],
   "source": [
    "x = np.linspace(-2*np.pi, 2*np.pi, 500)\n",
    "\n",
    "plt.plot(x, f(x));"
   ]
  },
  {
   "cell_type": "code",
   "execution_count": null,
   "id": "07a46c1c",
   "metadata": {},
   "outputs": [],
   "source": []
  }
 ],
 "metadata": {
  "kernelspec": {
   "display_name": "Python [conda env:py39]",
   "language": "python",
   "name": "conda-env-py39-py"
  },
  "language_info": {
   "codemirror_mode": {
    "name": "ipython",
    "version": 3
   },
   "file_extension": ".py",
   "mimetype": "text/x-python",
   "name": "python",
   "nbconvert_exporter": "python",
   "pygments_lexer": "ipython3",
   "version": "3.9.6"
  }
 },
 "nbformat": 4,
 "nbformat_minor": 5
}
