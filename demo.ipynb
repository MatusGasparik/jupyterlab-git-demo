{
 "cells": [
  {
   "cell_type": "markdown",
   "id": "fe6e24ce",
   "metadata": {},
   "source": [
    "# jupyterlab-git\n",
    "\n",
    "- should make tracking changes in `.ipynb` notebook files easy\n",
    "- hence making collaboration on them relatively painless"
   ]
  },
  {
   "cell_type": "code",
   "execution_count": 1,
   "id": "31fbb14c",
   "metadata": {},
   "outputs": [],
   "source": [
    "def foobar(foo, bar='Hello'):\n",
    "    return f'{bar}, {foo}!' "
   ]
  },
  {
   "cell_type": "code",
   "execution_count": 2,
   "id": "a055c08d",
   "metadata": {},
   "outputs": [
    {
     "data": {
      "text/plain": [
       "'Hello, World!'"
      ]
     },
     "execution_count": 2,
     "metadata": {},
     "output_type": "execute_result"
    }
   ],
   "source": [
    "foobar('World')"
   ]
  },
  {
   "cell_type": "code",
   "execution_count": null,
   "id": "ec209fb1",
   "metadata": {},
   "outputs": [],
   "source": []
  }
 ],
 "metadata": {
  "kernelspec": {
   "display_name": "Python [conda env:py39]",
   "language": "python",
   "name": "conda-env-py39-py"
  },
  "language_info": {
   "codemirror_mode": {
    "name": "ipython",
    "version": 3
   },
   "file_extension": ".py",
   "mimetype": "text/x-python",
   "name": "python",
   "nbconvert_exporter": "python",
   "pygments_lexer": "ipython3",
   "version": "3.9.6"
  }
 },
 "nbformat": 4,
 "nbformat_minor": 5
}
